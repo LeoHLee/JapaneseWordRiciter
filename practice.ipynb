{
 "cells": [
  {
   "cell_type": "code",
   "execution_count": 1,
   "metadata": {},
   "outputs": [],
   "source": [
    "import random"
   ]
  },
  {
   "cell_type": "code",
   "execution_count": null,
   "metadata": {},
   "outputs": [],
   "source": [
    "wordFile = open(\"list.csv\",\"r\",encoding=\"ANSI\")\n",
    "lines = wordFile.readlines()\n",
    "n = len(lines)-1\n",
    "questions = []\n",
    "answers = []\n",
    "weight = []\n",
    "for line in lines[1:]:\n",
    "    kana, mana, comment = line.split(',')\n",
    "    comment = comment[:-1]\n",
    "    if len(mana) == 0:\n",
    "        not_kana = comment\n",
    "    elif len(comment) == 0:\n",
    "        not_kana = mana\n",
    "    else :\n",
    "        not_kana = mana + \", \" + comment\n",
    "    questions.append(kana)\n",
    "    questions.append(not_kana)\n",
    "    answers.append(not_kana)\n",
    "    answers.append(kana)\n",
    "    weight.append(1)\n",
    "    weight.append(1)\n",
    "wordFile.close()\n",
    "weightsum = n"
   ]
  },
  {
   "cell_type": "code",
   "execution_count": 4,
   "metadata": {},
   "outputs": [],
   "source": [
    "saveFile = open(\"save.txt\",\"r\",encoding=\"ANSI\")\n",
    "lines = saveFile.readlines()\n",
    "n = len(lines)\n",
    "questions = []\n",
    "answers = []\n",
    "weight = []\n",
    "weightsum = 0\n",
    "for line in lines:\n",
    "    q,a,w = line.split('QWQ')\n",
    "    questions.append(q)\n",
    "    answers.append(a)\n",
    "    weight.append(int(w))\n",
    "    weightsum+=int(w)\n",
    "saveFile.close()"
   ]
  },
  {
   "cell_type": "code",
   "execution_count": null,
   "metadata": {},
   "outputs": [
    {
     "name": "stdout",
     "output_type": "stream",
     "text": [
      "Q: centre\n",
      "A:  センター\n",
      "\n",
      "Q: さむい\n",
      "A:  寒い, （天气）冷\n",
      "\n",
      "Q: 綺麗, 漂亮，干净\n",
      "A:  きれい\n",
      "\n",
      "Q: ちかい\n",
      "A:  近い\n",
      "-\n",
      "Q: 勉強, 学习\n",
      "A:  べんきょう\n",
      "-\n",
      "Q: 昨日\n",
      "A:  きのう\n",
      "\n",
      "Q: あき\n",
      "A:  秋\n",
      "\n",
      "Q: juice\n",
      "A:  ジュース\n",
      "\n",
      "Q: しずか\n",
      "A:  静か\n",
      "\n",
      "110 questions left!\n",
      "Q: 授業"
     ]
    }
   ],
   "source": [
    "while weightsum>0:\n",
    "    if weightsum%10==0:\n",
    "        print(str(weightsum)+\" questions left!\")\n",
    "    tmp = random.randint(1,weightsum)\n",
    "    for i in range(n):\n",
    "        tmp -= weight[i]\n",
    "        if tmp<=0:\n",
    "            index = i\n",
    "            break\n",
    "    print(\"Q:\", questions[index],end=\"\")\n",
    "    input()\n",
    "    print(\"A: \", answers[index])\n",
    "    result = input()\n",
    "    if result.count(\"s\")>0:\n",
    "        saveFile = open(\"save.txt\",\"w\",encoding=\"ANSI\")\n",
    "        for i in range(n):\n",
    "            saveFile.write(questions[i]+\"QWQ\"+answers[i]+\"QWQ\"+str(weight[i])+'\\n')\n",
    "        saveFile.close()\n",
    "    if result.count(\"=\")>0:\n",
    "        continue\n",
    "    if result.count('-')>0:\n",
    "        weight[index]+=1\n",
    "        weightsum+=1\n",
    "    else:\n",
    "        weight[index]-=1\n",
    "        weightsum-=1\n",
    "    if weight[index] == 0:\n",
    "        del questions[index]\n",
    "        del answers[index]\n",
    "        del weight[index]\n",
    "        n-=1"
   ]
  },
  {
   "cell_type": "code",
   "execution_count": null,
   "metadata": {},
   "outputs": [],
   "source": []
  }
 ],
 "metadata": {
  "kernelspec": {
   "display_name": "Python 3",
   "language": "python",
   "name": "python3"
  },
  "language_info": {
   "codemirror_mode": {
    "name": "ipython",
    "version": 3
   },
   "file_extension": ".py",
   "mimetype": "text/x-python",
   "name": "python",
   "nbconvert_exporter": "python",
   "pygments_lexer": "ipython3",
   "version": "3.8.3"
  }
 },
 "nbformat": 4,
 "nbformat_minor": 4
}
