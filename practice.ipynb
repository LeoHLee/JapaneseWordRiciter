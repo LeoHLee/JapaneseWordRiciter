{
 "cells": [
  {
   "cell_type": "code",
   "execution_count": 1,
   "metadata": {},
   "outputs": [],
   "source": [
    "import random"
   ]
  },
  {
   "cell_type": "code",
   "execution_count": 2,
   "metadata": {},
   "outputs": [
    {
     "output_type": "error",
     "ename": "UnicodeDecodeError",
     "evalue": "'mbcs' codec can't decode byte 0x8f in position 86: No mapping for the Unicode character exists in the target code page.",
     "traceback": [
      "\u001b[1;31m---------------------------------------------------------------------------\u001b[0m",
      "\u001b[1;31mUnicodeDecodeError\u001b[0m                        Traceback (most recent call last)",
      "\u001b[1;32m<ipython-input-2-91212b8d2612>\u001b[0m in \u001b[0;36m<module>\u001b[1;34m\u001b[0m\n\u001b[0;32m      1\u001b[0m \u001b[1;31m# restart\u001b[0m\u001b[1;33m\u001b[0m\u001b[1;33m\u001b[0m\u001b[1;33m\u001b[0m\u001b[0m\n\u001b[0;32m      2\u001b[0m \u001b[0mwordFile\u001b[0m \u001b[1;33m=\u001b[0m \u001b[0mopen\u001b[0m\u001b[1;33m(\u001b[0m\u001b[1;34m\"list.csv\"\u001b[0m\u001b[1;33m,\u001b[0m\u001b[1;34m\"r\"\u001b[0m\u001b[1;33m,\u001b[0m\u001b[0mencoding\u001b[0m\u001b[1;33m=\u001b[0m\u001b[1;34m\"ANSI\"\u001b[0m\u001b[1;33m)\u001b[0m\u001b[1;33m\u001b[0m\u001b[1;33m\u001b[0m\u001b[0m\n\u001b[1;32m----> 3\u001b[1;33m \u001b[0mlines\u001b[0m \u001b[1;33m=\u001b[0m \u001b[0mwordFile\u001b[0m\u001b[1;33m.\u001b[0m\u001b[0mreadlines\u001b[0m\u001b[1;33m(\u001b[0m\u001b[1;33m)\u001b[0m\u001b[1;33m\u001b[0m\u001b[1;33m\u001b[0m\u001b[0m\n\u001b[0m\u001b[0;32m      4\u001b[0m \u001b[0mn\u001b[0m \u001b[1;33m=\u001b[0m \u001b[0mlen\u001b[0m\u001b[1;33m(\u001b[0m\u001b[0mlines\u001b[0m\u001b[1;33m)\u001b[0m\u001b[1;33m-\u001b[0m\u001b[1;36m1\u001b[0m\u001b[1;33m\u001b[0m\u001b[1;33m\u001b[0m\u001b[0m\n\u001b[0;32m      5\u001b[0m \u001b[0mquestions\u001b[0m \u001b[1;33m=\u001b[0m \u001b[1;33m[\u001b[0m\u001b[1;33m]\u001b[0m\u001b[1;33m\u001b[0m\u001b[1;33m\u001b[0m\u001b[0m\n",
      "\u001b[1;32m~\\anaconda3\\lib\\codecs.py\u001b[0m in \u001b[0;36mdecode\u001b[1;34m(self, input, final)\u001b[0m\n\u001b[0;32m    320\u001b[0m         \u001b[1;31m# decode input (taking the buffer into account)\u001b[0m\u001b[1;33m\u001b[0m\u001b[1;33m\u001b[0m\u001b[1;33m\u001b[0m\u001b[0m\n\u001b[0;32m    321\u001b[0m         \u001b[0mdata\u001b[0m \u001b[1;33m=\u001b[0m \u001b[0mself\u001b[0m\u001b[1;33m.\u001b[0m\u001b[0mbuffer\u001b[0m \u001b[1;33m+\u001b[0m \u001b[0minput\u001b[0m\u001b[1;33m\u001b[0m\u001b[1;33m\u001b[0m\u001b[0m\n\u001b[1;32m--> 322\u001b[1;33m         \u001b[1;33m(\u001b[0m\u001b[0mresult\u001b[0m\u001b[1;33m,\u001b[0m \u001b[0mconsumed\u001b[0m\u001b[1;33m)\u001b[0m \u001b[1;33m=\u001b[0m \u001b[0mself\u001b[0m\u001b[1;33m.\u001b[0m\u001b[0m_buffer_decode\u001b[0m\u001b[1;33m(\u001b[0m\u001b[0mdata\u001b[0m\u001b[1;33m,\u001b[0m \u001b[0mself\u001b[0m\u001b[1;33m.\u001b[0m\u001b[0merrors\u001b[0m\u001b[1;33m,\u001b[0m \u001b[0mfinal\u001b[0m\u001b[1;33m)\u001b[0m\u001b[1;33m\u001b[0m\u001b[1;33m\u001b[0m\u001b[0m\n\u001b[0m\u001b[0;32m    323\u001b[0m         \u001b[1;31m# keep undecoded input until the next call\u001b[0m\u001b[1;33m\u001b[0m\u001b[1;33m\u001b[0m\u001b[1;33m\u001b[0m\u001b[0m\n\u001b[0;32m    324\u001b[0m         \u001b[0mself\u001b[0m\u001b[1;33m.\u001b[0m\u001b[0mbuffer\u001b[0m \u001b[1;33m=\u001b[0m \u001b[0mdata\u001b[0m\u001b[1;33m[\u001b[0m\u001b[0mconsumed\u001b[0m\u001b[1;33m:\u001b[0m\u001b[1;33m]\u001b[0m\u001b[1;33m\u001b[0m\u001b[1;33m\u001b[0m\u001b[0m\n",
      "\u001b[1;31mUnicodeDecodeError\u001b[0m: 'mbcs' codec can't decode byte 0x8f in position 86: No mapping for the Unicode character exists in the target code page."
     ]
    }
   ],
   "source": [
    "# restart\n",
    "wordFile = open(\"list.csv\",\"r\",encoding=\"utf-8\")\n",
    "lines = wordFile.readlines()\n",
    "n = len(lines)-1\n",
    "questions = []\n",
    "answers = []\n",
    "weight = []\n",
    "for line in lines[1:]:\n",
    "    kana, mana, comment = line.split(',')\n",
    "    comment = comment[:-1]\n",
    "    if len(mana) == 0:\n",
    "        not_kana = comment\n",
    "    elif len(comment) == 0:\n",
    "        not_kana = mana\n",
    "    else :\n",
    "        not_kana = mana + \", \" + comment\n",
    "    questions.append(kana)\n",
    "    questions.append(not_kana)\n",
    "    answers.append(not_kana)\n",
    "    answers.append(kana)\n",
    "    weight.append(1)\n",
    "    weight.append(1)\n",
    "wordFile.close()\n",
    "weightsum = n"
   ]
  },
  {
   "cell_type": "code",
   "execution_count": null,
   "metadata": {},
   "outputs": [],
   "source": [
    "# load stored data\n",
    "saveFile = open(\"save.txt\",\"r\",encoding=\"ANSI\")\n",
    "lines = saveFile.readlines()\n",
    "n = len(lines)\n",
    "questions = []\n",
    "answers = []\n",
    "weight = []\n",
    "weightsum = 0\n",
    "for line in lines:\n",
    "    q,a,w = line.split('QWQ')\n",
    "    questions.append(q)\n",
    "    answers.append(a)\n",
    "    weight.append(float(w))\n",
    "    weightsum+=float(w)\n",
    "saveFile.close()"
   ]
  },
  {
   "cell_type": "code",
   "execution_count": null,
   "metadata": {},
   "outputs": [],
   "source": [
    "# list-clearing mode\n",
    "while n>0:\n",
    "    if weightsum%10==0:\n",
    "        print(str(weightsum)+\" questions left!\")\n",
    "    tmp = random.randint(1,weightsum)\n",
    "    for i in range(n):\n",
    "        tmp -= weight[i]\n",
    "        if tmp<=0:\n",
    "            index = i\n",
    "            break\n",
    "    print(\"Q:\", questions[index],end=\"\")\n",
    "    input()\n",
    "    print(\"A: \", answers[index])\n",
    "    result = input()\n",
    "    if result.count(\"s\")>0:\n",
    "        saveFile = open(\"save.txt\",\"w\",encoding=\"utf-8\")\n",
    "        for i in range(n):\n",
    "            saveFile.write(questions[i]+\"QWQ\"+answers[i]+\"QWQ\"+str(weight[i])+'\\n')\n",
    "        saveFile.close()\n",
    "    if result.count(\"=\")>0:\n",
    "        continue\n",
    "    if result.count('-')>0:\n",
    "        weight[index]+=1\n",
    "        weightsum+=1\n",
    "    else:\n",
    "        weight[index]-=1\n",
    "        weightsum-=1\n",
    "    if weight[index] == 0:\n",
    "        del questions[index]\n",
    "        del answers[index]\n",
    "        del weight[index]\n",
    "        n-=1\n",
    "print(\"Word List is Empty\")"
   ]
  },
  {
   "cell_type": "code",
   "execution_count": null,
   "metadata": {},
   "outputs": [],
   "source": [
    "#practice mode\n",
    "while weightsum>0:\n",
    "    tmp = random.uniform(0,weightsum)\n",
    "    for i in range(n):\n",
    "        tmp -= weight[i]\n",
    "        if tmp<=0:\n",
    "            index = i\n",
    "            break\n",
    "    print(\"HP: \"+str(weightsum))\n",
    "    print(\"Q:\", questions[index],end=\"\")\n",
    "    input()\n",
    "    print(\"A: \", answers[index])\n",
    "    result = input()\n",
    "    if result.count(\"s\")>0:\n",
    "        saveFile = open(\"save.txt\",\"w\",encoding=\"utf-8\")\n",
    "        for i in range(n):\n",
    "            saveFile.write(questions[i]+\"QWQ\"+answers[i]+\"QWQ\"+str(weight[i])+'\\n')\n",
    "        saveFile.close()\n",
    "    if result.count(\"=\")>0:\n",
    "        continue\n",
    "    if result.count('-')>0:\n",
    "        weightsum+=weight[index]*9\n",
    "        weight[index]*=10\n",
    "    else:\n",
    "        weightsum-=weight[index]*2/3\n",
    "        weight[index]*=1/3"
   ]
  },
  {
   "cell_type": "code",
   "execution_count": null,
   "metadata": {},
   "outputs": [],
   "source": []
  }
 ],
 "metadata": {
  "kernelspec": {
   "display_name": "Python 3",
   "language": "python",
   "name": "python3"
  },
  "language_info": {
   "codemirror_mode": {
    "name": "ipython",
    "version": 3
   },
   "file_extension": ".py",
   "mimetype": "text/x-python",
   "name": "python",
   "nbconvert_exporter": "python",
   "pygments_lexer": "ipython3",
   "version": "3.8.3-final"
  }
 },
 "nbformat": 4,
 "nbformat_minor": 4
}