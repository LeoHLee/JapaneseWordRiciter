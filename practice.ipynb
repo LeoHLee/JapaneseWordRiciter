{
 "cells": [
  {
   "cell_type": "code",
   "execution_count": null,
   "metadata": {},
   "outputs": [],
   "source": [
    "import random"
   ]
  },
  {
   "cell_type": "code",
   "execution_count": null,
   "metadata": {},
   "outputs": [],
   "source": [
    "# restart\n",
    "wordFile = open(\"list.csv\",\"r\",encoding=\"utf-8\")\n",
    "lines = wordFile.readlines()\n",
    "n = len(lines)-1\n",
    "questions = []\n",
    "answers = []\n",
    "weight = []\n",
    "for line in lines[1:]:\n",
    "    kana, mana, comment = line.split(',')\n",
    "    comment = comment[:-1]\n",
    "    if len(mana) == 0:\n",
    "        not_kana = comment\n",
    "    elif len(comment) == 0:\n",
    "        not_kana = mana\n",
    "    else :\n",
    "        not_kana = mana + \", \" + comment\n",
    "    questions.append(kana)\n",
    "    questions.append(not_kana)\n",
    "    answers.append(not_kana)\n",
    "    answers.append(kana)\n",
    "    weight.append(1)\n",
    "    weight.append(1)\n",
    "wordFile.close()\n",
    "weightsum = n"
   ]
  },
  {
   "cell_type": "code",
   "execution_count": null,
   "metadata": {},
   "outputs": [],
   "source": [
    "# load stored data\n",
    "saveFile = open(\"save.txt\",\"r\",encoding=\"utf-8\")\n",
    "lines = saveFile.readlines()\n",
    "n = len(lines)\n",
    "questions = []\n",
    "answers = []\n",
    "weight = []\n",
    "weightsum = 0\n",
    "for line in lines:\n",
    "    q,a,w = line.split('QWQ')\n",
    "    questions.append(q)\n",
    "    answers.append(a)\n",
    "    weight.append(float(w))\n",
    "    weightsum+=float(w)\n",
    "saveFile.close()"
   ]
  },
  {
   "cell_type": "code",
   "execution_count": null,
   "metadata": {
    "scrolled": false
   },
   "outputs": [
    {
     "name": "stdout",
     "output_type": "stream",
     "text": [
      "Q: ごご\n",
      "A:  午後\n",
      "-\n",
      "Q: きょう\n",
      "A:  今日\n",
      "=\n",
      "Q: 学生\n",
      "A:  がくせい\n",
      "\n",
      "Q: 学部\n",
      "A:  がくぶ\n",
      "\n",
      "Q: 非常"
     ]
    }
   ],
   "source": [
    "# list-clearing mode\n",
    "while n>0:\n",
    "    if weightsum%10==0:\n",
    "        print(str(weightsum)+\" questions left!\")\n",
    "    tmp = random.randint(1,weightsum)\n",
    "    for i in range(n):\n",
    "        tmp -= weight[i]\n",
    "        if tmp<=0:\n",
    "            index = i\n",
    "            break\n",
    "    print(\"Q:\", questions[index],end=\"\")\n",
    "    input()\n",
    "    print(\"A: \", answers[index])\n",
    "    result = input()\n",
    "    if result.count(\"s\")>0:\n",
    "        saveFile = open(\"save.txt\",\"w\",encoding=\"utf-8\")\n",
    "        for i in range(n):\n",
    "            saveFile.write(questions[i]+\"QWQ\"+answers[i]+\"QWQ\"+str(weight[i])+'\\n')\n",
    "        saveFile.close()\n",
    "    if result.count(\"=\")>0:\n",
    "        continue\n",
    "    if result.count('-')>0:\n",
    "        weight[index]+=1\n",
    "        weightsum+=1\n",
    "    else:\n",
    "        weight[index]-=1\n",
    "        weightsum-=1\n",
    "    if weight[index] == 0:\n",
    "        del questions[index]\n",
    "        del answers[index]\n",
    "        del weight[index]\n",
    "        n-=1\n",
    "print(\"Word List is Empty\")"
   ]
  },
  {
   "cell_type": "code",
   "execution_count": null,
   "metadata": {},
   "outputs": [],
   "source": [
    "#practice mode\n",
    "while weightsum>0:\n",
    "    tmp = random.uniform(0,weightsum)\n",
    "    for i in range(n):\n",
    "        tmp -= weight[i]\n",
    "        if tmp<=0:\n",
    "            index = i\n",
    "            break\n",
    "    print(\"HP: \"+str(weightsum))\n",
    "    print(\"Q:\", questions[index],end=\"\")\n",
    "    input()\n",
    "    print(\"A: \", answers[index])\n",
    "    result = input()\n",
    "    if result.count(\"s\")>0:\n",
    "        saveFile = open(\"save.txt\",\"w\",encoding=\"utf-8\")\n",
    "        for i in range(n):\n",
    "            saveFile.write(questions[i]+\"QWQ\"+answers[i]+\"QWQ\"+str(weight[i])+'\\n')\n",
    "        saveFile.close()\n",
    "    if result.count(\"=\")>0:\n",
    "        continue\n",
    "    if result.count('-')>0:\n",
    "        weightsum+=weight[index]*9\n",
    "        weight[index]*=10\n",
    "    else:\n",
    "        weightsum-=weight[index]*2/3\n",
    "        weight[index]*=1/3"
   ]
  },
  {
   "cell_type": "code",
   "execution_count": null,
   "metadata": {},
   "outputs": [],
   "source": []
  }
 ],
 "metadata": {
  "kernelspec": {
   "display_name": "Python 3",
   "language": "python",
   "name": "python3"
  },
  "language_info": {
   "codemirror_mode": {
    "name": "ipython",
    "version": 3
   },
   "file_extension": ".py",
   "mimetype": "text/x-python",
   "name": "python",
   "nbconvert_exporter": "python",
   "pygments_lexer": "ipython3",
   "version": "3.8.3"
  }
 },
 "nbformat": 4,
 "nbformat_minor": 4
}
